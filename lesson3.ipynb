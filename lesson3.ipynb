version https://git-lfs.github.com/spec/v1
oid sha256:8810e60a4ed8e3a6e7a74ab808b7733af281c7bb5bb4abc70f0bc7e92840b0be
size 1708
